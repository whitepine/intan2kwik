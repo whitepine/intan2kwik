{
 "cells": [
  {
   "cell_type": "code",
   "execution_count": 3,
   "metadata": {},
   "outputs": [
    {
     "name": "stderr",
     "output_type": "stream",
     "text": [
      "2017-08-30 17:47:55,505 root         INFO     All modules loaded\n",
      "2017-08-30 17:47:55,505 root         INFO     All modules loaded\n"
     ]
    }
   ],
   "source": [
    "import sys\n",
    "import socket\n",
    "import os\n",
    "import glob\n",
    "import os\n",
    "import logging\n",
    "from importlib import reload\n",
    "import shutil as sh\n",
    "\n",
    "logger = logging.getLogger()\n",
    "handler = logging.StreamHandler()\n",
    "formatter = logging.Formatter(\n",
    "        '%(asctime)s %(name)-12s %(levelname)-8s %(message)s')\n",
    "handler.setFormatter(formatter)\n",
    "logger.addHandler(handler)\n",
    "logger.setLevel(logging.DEBUG)\n",
    "\n",
    "from intan2kwik.core.intan.util.read_header import read_header\n",
    "from intan2kwik.core.intan import load_intan as li\n",
    "from intan2kwik.core import intan\n",
    "\n",
    "from intan2kwik import kwd as ikwd\n",
    "logger.info('All modules loaded')"
   ]
  },
  {
   "cell_type": "code",
   "execution_count": 4,
   "metadata": {},
   "outputs": [
    {
     "name": "stderr",
     "output_type": "stream",
     "text": [
      "2017-08-30 17:47:56,558 intan2kwik.kwd INFO     reading intan chans data across all of rec /mnt/cube/earneodo/bci_zf/raw_data/z024/anesth_surface_0\n",
      "2017-08-30 17:47:56,558 intan2kwik.kwd INFO     reading intan chans data across all of rec /mnt/cube/earneodo/bci_zf/raw_data/z024/anesth_surface_0\n",
      "2017-08-30 17:47:56,564 intan2kwik.kwd INFO     Found 2 files to process\n",
      "2017-08-30 17:47:56,564 intan2kwik.kwd INFO     Found 2 files to process\n",
      "2017-08-30 17:47:56,571 intan2kwik.kwd DEBUG    Creating the /recordings/0\n",
      "2017-08-30 17:47:56,571 intan2kwik.kwd DEBUG    Creating the /recordings/0\n",
      "2017-08-30 17:47:56,573 intan2kwik.kwd DEBUG    Creating data group for this rec 0\n",
      "2017-08-30 17:47:56,573 intan2kwik.kwd DEBUG    Creating data group for this rec 0\n",
      "2017-08-30 17:47:56,575 intan2kwik.kwd DEBUG    Creating data table and going throug the recs\n",
      "2017-08-30 17:47:56,575 intan2kwik.kwd DEBUG    Creating data table and going throug the recs\n",
      "2017-08-30 17:47:56,575 intan2kwik.kwd INFO     Appending 2 files to data table in <HDF5 group \"/recordings/0\" (1 members)>\n",
      "2017-08-30 17:47:56,575 intan2kwik.kwd INFO     Appending 2 files to data table in <HDF5 group \"/recordings/0\" (1 members)>\n",
      "2017-08-30 17:47:56,576 intan2kwik.intan.load_intan INFO     Reading intan file /mnt/cube/earneodo/bci_zf/raw_data/z024/anesth_surface_0/raw_intan_170811_115207.rhd\n",
      "2017-08-30 17:47:56,576 intan2kwik.intan.load_intan INFO     Reading intan file /mnt/cube/earneodo/bci_zf/raw_data/z024/anesth_surface_0/raw_intan_170811_115207.rhd\n",
      "100%|██████████| 300016/300016 [02:32<00:00, 1967.47it/s]\n",
      "2017-08-30 17:55:48,588 intan2kwik.kwd INFO     Creating tables of neural/adc data\n",
      "2017-08-30 17:55:48,588 intan2kwik.kwd INFO     Creating tables of neural/adc data\n",
      "2017-08-30 17:57:16,588 intan2kwik.core.h5.tables DEBUG    Creating unbounded table /recordings/0 in group data\n",
      "2017-08-30 17:57:16,588 intan2kwik.core.h5.tables DEBUG    Creating unbounded table /recordings/0 in group data\n",
      "2017-08-30 17:58:36,289 intan2kwik.core.h5.tables DEBUG    Creating unbounded table /recordings/0 in group t_amplifier\n",
      "2017-08-30 17:58:36,289 intan2kwik.core.h5.tables DEBUG    Creating unbounded table /recordings/0 in group t_amplifier\n",
      "2017-08-30 17:58:36,360 intan2kwik.kwd INFO     Creating tables of digital data\n",
      "2017-08-30 17:58:36,360 intan2kwik.kwd INFO     Creating tables of digital data\n",
      "2017-08-30 17:58:38,053 intan2kwik.core.h5.tables DEBUG    Creating unbounded table /recordings/0 in group dig_in\n",
      "2017-08-30 17:58:38,053 intan2kwik.core.h5.tables DEBUG    Creating unbounded table /recordings/0 in group dig_in\n",
      "2017-08-30 17:58:38,073 intan2kwik.core.h5.tables DEBUG    Creating unbounded table /recordings/0 in group t_dig\n",
      "2017-08-30 17:58:38,073 intan2kwik.core.h5.tables DEBUG    Creating unbounded table /recordings/0 in group t_dig\n",
      "2017-08-30 17:58:38,585 intan2kwik.intan.load_intan INFO     Reading intan file /mnt/cube/earneodo/bci_zf/raw_data/z024/anesth_surface_0/raw_intan_170811_120207.rhd\n",
      "2017-08-30 17:58:38,585 intan2kwik.intan.load_intan INFO     Reading intan file /mnt/cube/earneodo/bci_zf/raw_data/z024/anesth_surface_0/raw_intan_170811_120207.rhd\n",
      "100%|██████████| 220000/220000 [02:11<00:00, 1672.23it/s]\n",
      "2017-08-30 18:00:53,413 intan2kwik.core.h5.tables DEBUG    Appending 13200000 rows to dataset /recordings/0/data\n",
      "2017-08-30 18:00:53,413 intan2kwik.core.h5.tables DEBUG    Appending 13200000 rows to dataset /recordings/0/data\n",
      "2017-08-30 18:00:56,104 intan2kwik.core.h5.tables DEBUG    Appending 13200000 rows to dataset /recordings/0/t_amplifier\n",
      "2017-08-30 18:00:56,104 intan2kwik.core.h5.tables DEBUG    Appending 13200000 rows to dataset /recordings/0/t_amplifier\n",
      "2017-08-30 18:00:56,157 intan2kwik.core.h5.tables DEBUG    Appending 13200000 rows to dataset /recordings/0/dig_in\n",
      "2017-08-30 18:00:56,157 intan2kwik.core.h5.tables DEBUG    Appending 13200000 rows to dataset /recordings/0/dig_in\n",
      "2017-08-30 18:00:56,171 intan2kwik.core.h5.tables DEBUG    Appending 13200000 rows to dataset /recordings/0/t_dig\n",
      "2017-08-30 18:00:56,171 intan2kwik.core.h5.tables DEBUG    Appending 13200000 rows to dataset /recordings/0/t_dig\n",
      "2017-08-30 18:00:56,218 intan2kwik.kwd INFO     Delta cum_samples/cum_t is [ 0.]\n",
      "2017-08-30 18:00:56,218 intan2kwik.kwd INFO     Delta cum_samples/cum_t is [ 0.]\n"
     ]
    }
   ],
   "source": [
    "rhd_folder = '/mnt/cube/earneodo/bci_zf/raw_data/z024/anesth_surface_0'\n",
    "\n",
    "kwd_file_path = os.path.join(rhd_folder, 'experiment.raw.kwd')\n",
    "kwe_file_path = os.path.join(rhd_folder, 'experiment.raw.kwe')\n",
    "\n",
    "ihdr = ikwd.intan_to_kwd(rhd_folder, kwd_file_path, rec=0, include_channels=['amplifier', 'board_adc'])"
   ]
  },
  {
   "cell_type": "code",
   "execution_count": null,
   "metadata": {
    "collapsed": true
   },
   "outputs": [],
   "source": [
    ""
   ]
  }
 ],
 "metadata": {
  "kernelspec": {
   "display_name": "Tf 1.2 py3.6",
   "language": "python",
   "name": "tf"
  },
  "language_info": {
   "codemirror_mode": {
    "name": "ipython",
    "version": 3.0
   },
   "file_extension": ".py",
   "mimetype": "text/x-python",
   "name": "python",
   "nbconvert_exporter": "python",
   "pygments_lexer": "ipython3",
   "version": "3.6.2"
  }
 },
 "nbformat": 4,
 "nbformat_minor": 0
}