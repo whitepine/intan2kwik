{
 "cells": [
  {
   "cell_type": "code",
   "execution_count": 1,
   "metadata": {},
   "outputs": [
    {
     "name": "stderr",
     "output_type": "stream",
     "text": [
      "2017-08-30 17:06:11,613 root         INFO     All modules loaded\n"
     ]
    }
   ],
   "source": [
    "import sys\n",
    "import socket\n",
    "import os\n",
    "import glob\n",
    "import os\n",
    "import logging\n",
    "from importlib import reload\n",
    "import shutil as sh\n",
    "\n",
    "logger = logging.getLogger()\n",
    "handler = logging.StreamHandler()\n",
    "formatter = logging.Formatter(\n",
    "        '%(asctime)s %(name)-12s %(levelname)-8s %(message)s')\n",
    "handler.setFormatter(formatter)\n",
    "logger.addHandler(handler)\n",
    "logger.setLevel(logging.DEBUG)\n",
    "\n",
    "from intan2kwik.core.intan.util.read_header import read_header\n",
    "from intan2kwik.core.intan import load_intan as li\n",
    "from intan2kwik.core import intan\n",
    "\n",
    "from intan2kwik import kwd as ikwd\n",
    "logger.info('All modules loaded')"
   ]
  },
  {
   "cell_type": "code",
   "execution_count": 3,
   "metadata": {},
   "outputs": [
    {
     "name": "stderr",
     "output_type": "stream",
     "text": [
      "2017-08-30 17:06:27,344 intan2kwik.kwd INFO     reading intan chans data across all of rec /mnt/cube/earneodo/bci_zf/raw_data/z024/anesth_surface_0\n",
      "2017-08-30 17:06:27,346 intan2kwik.kwd INFO     Found 2 files to process\n",
      "2017-08-30 17:06:27,352 intan2kwik.kwd DEBUG    Creating the /recordings/0\n",
      "2017-08-30 17:06:27,353 intan2kwik.kwd DEBUG    Creating data group for this rec 0\n",
      "2017-08-30 17:06:27,355 intan2kwik.kwd DEBUG    Creating data table and going throug the recs\n",
      "2017-08-30 17:06:27,355 intan2kwik.kwd INFO     Appending 2 files to data table in <HDF5 group \"/recordings/0\" (1 members)>\n",
      "2017-08-30 17:06:27,356 intan2kwik.intan.load_intan INFO     Reading intan file /mnt/cube/earneodo/bci_zf/raw_data/z024/anesth_surface_0/raw_intan_170811_115207.rhd\n",
      "100%|██████████| 300016/300016 [02:23<00:00, 2097.63it/s]\n",
      "2017-08-30 17:14:57,301 intan2kwik.core.h5.tables DEBUG    Creating unbounded table /recordings/0 in group data\n",
      "2017-08-30 17:15:05,627 intan2kwik.core.h5.tables DEBUG    Creating unbounded table /recordings/0 in group t_amplifier\n",
      "2017-08-30 17:15:08,661 intan2kwik.core.h5.tables DEBUG    Creating unbounded table /recordings/0 in group dig_in\n",
      "2017-08-30 17:15:08,686 intan2kwik.core.h5.tables DEBUG    Creating unbounded table /recordings/0 in group t_dig\n",
      "2017-08-30 17:15:09,137 intan2kwik.intan.load_intan INFO     Reading intan file /mnt/cube/earneodo/bci_zf/raw_data/z024/anesth_surface_0/raw_intan_170811_120207.rhd\n",
      "100%|██████████| 220000/220000 [02:06<00:00, 1744.60it/s]\n",
      "2017-08-30 17:17:24,655 intan2kwik.core.h5.tables DEBUG    Appending 13200000 rows to dataset /recordings/0/data\n",
      "2017-08-30 17:17:32,402 intan2kwik.core.h5.tables DEBUG    Appending 13200000 rows to dataset /recordings/0/t_amplifier\n",
      "2017-08-30 17:17:34,756 intan2kwik.core.h5.tables DEBUG    Appending 13200000 rows to dataset /recordings/0/dig_in\n"
     ]
    },
    {
     "ename": "TypeError",
     "evalue": "Can't broadcast (13200000, 35) -> (13200000, 1)",
     "output_type": "error",
     "traceback": [
      "\u001b[0;31m---------------------------------------------------------------------------\u001b[0m",
      "\u001b[0;31mTypeError\u001b[0m                                 Traceback (most recent call last)",
      "\u001b[0;32m<ipython-input-3-0e4928aea51b>\u001b[0m in \u001b[0;36m<module>\u001b[0;34m()\u001b[0m\n\u001b[1;32m      4\u001b[0m \u001b[0mkwe_file_path\u001b[0m \u001b[0;34m=\u001b[0m \u001b[0mos\u001b[0m\u001b[0;34m.\u001b[0m\u001b[0mpath\u001b[0m\u001b[0;34m.\u001b[0m\u001b[0mjoin\u001b[0m\u001b[0;34m(\u001b[0m\u001b[0mrhd_folder\u001b[0m\u001b[0;34m,\u001b[0m \u001b[0;34m'experiment.raw.kwe'\u001b[0m\u001b[0;34m)\u001b[0m\u001b[0;34m\u001b[0m\u001b[0m\n\u001b[1;32m      5\u001b[0m \u001b[0;34m\u001b[0m\u001b[0m\n\u001b[0;32m----> 6\u001b[0;31m \u001b[0mihdr\u001b[0m \u001b[0;34m=\u001b[0m \u001b[0mikwd\u001b[0m\u001b[0;34m.\u001b[0m\u001b[0mintan_to_kwd\u001b[0m\u001b[0;34m(\u001b[0m\u001b[0mrhd_folder\u001b[0m\u001b[0;34m,\u001b[0m \u001b[0mkwd_file_path\u001b[0m\u001b[0;34m,\u001b[0m \u001b[0mrec\u001b[0m\u001b[0;34m=\u001b[0m\u001b[0;36m0\u001b[0m\u001b[0;34m,\u001b[0m \u001b[0minclude_channels\u001b[0m\u001b[0;34m=\u001b[0m\u001b[0;34m[\u001b[0m\u001b[0;34m'amplifier'\u001b[0m\u001b[0;34m,\u001b[0m \u001b[0;34m'board_adc'\u001b[0m\u001b[0;34m]\u001b[0m\u001b[0;34m)\u001b[0m\u001b[0;34m\u001b[0m\u001b[0m\n\u001b[0m",
      "\u001b[0;32m/mnt/cube/earneodo/repos/intan2kwik/intan2kwik/kwd.py\u001b[0m in \u001b[0;36mintan_to_kwd\u001b[0;34m(folder, dest_file_path, rec, include_channels)\u001b[0m\n\u001b[1;32m    181\u001b[0m         \u001b[0mrec_grp\u001b[0m \u001b[0;34m=\u001b[0m \u001b[0mkwd_file\u001b[0m\u001b[0;34m.\u001b[0m\u001b[0mrequire_group\u001b[0m\u001b[0;34m(\u001b[0m\u001b[0;34m'recordings'\u001b[0m\u001b[0;34m)\u001b[0m\u001b[0;34m\u001b[0m\u001b[0m\n\u001b[1;32m    182\u001b[0m         \u001b[0mdata_grp\u001b[0m \u001b[0;34m=\u001b[0m \u001b[0mcreate_data_grp\u001b[0m\u001b[0;34m(\u001b[0m\u001b[0mrec_grp\u001b[0m\u001b[0;34m,\u001b[0m \u001b[0mfirst_header\u001b[0m\u001b[0;34m,\u001b[0m \u001b[0minclude_channels\u001b[0m\u001b[0;34m,\u001b[0m \u001b[0mrec\u001b[0m\u001b[0;34m)\u001b[0m\u001b[0;34m\u001b[0m\u001b[0m\n\u001b[0;32m--> 183\u001b[0;31m         \u001b[0;31m# create application data with all metadata\u001b[0m\u001b[0;34m\u001b[0m\u001b[0;34m\u001b[0m\u001b[0m\n\u001b[0m\u001b[1;32m    184\u001b[0m         \u001b[0mlogger\u001b[0m\u001b[0;34m.\u001b[0m\u001b[0mdebug\u001b[0m\u001b[0;34m(\u001b[0m\u001b[0;34m'Creating data table and going throug the recs'\u001b[0m\u001b[0;34m)\u001b[0m\u001b[0;34m\u001b[0m\u001b[0m\n\u001b[1;32m    185\u001b[0m         \u001b[0mrhd_rec_to_table\u001b[0m\u001b[0;34m(\u001b[0m\u001b[0mall_rhd_files\u001b[0m\u001b[0;34m,\u001b[0m \u001b[0mdata_grp\u001b[0m\u001b[0;34m,\u001b[0m \u001b[0minclude_channels\u001b[0m\u001b[0;34m)\u001b[0m\u001b[0;34m\u001b[0m\u001b[0m\n",
      "\u001b[0;32m/mnt/cube/earneodo/repos/intan2kwik/intan2kwik/kwd.py\u001b[0m in \u001b[0;36mrhd_rec_to_table\u001b[0;34m(rhd_list, parent_group, include_chans)\u001b[0m\n\u001b[1;32m    102\u001b[0m         \u001b[0;32melse\u001b[0m\u001b[0;34m:\u001b[0m\u001b[0;34m\u001b[0m\u001b[0m\n\u001b[1;32m    103\u001b[0m             \u001b[0mtables\u001b[0m\u001b[0;34m.\u001b[0m\u001b[0mappend_rows\u001b[0m\u001b[0;34m(\u001b[0m\u001b[0mdset\u001b[0m\u001b[0;34m,\u001b[0m \u001b[0msave_block\u001b[0m\u001b[0;34m.\u001b[0m\u001b[0mastype\u001b[0m\u001b[0;34m(\u001b[0m\u001b[0mnp\u001b[0m\u001b[0;34m.\u001b[0m\u001b[0mint16\u001b[0m\u001b[0;34m)\u001b[0m\u001b[0;34m)\u001b[0m\u001b[0;34m\u001b[0m\u001b[0m\n\u001b[0;32m--> 104\u001b[0;31m             \u001b[0mtables\u001b[0m\u001b[0;34m.\u001b[0m\u001b[0mappend_rows\u001b[0m\u001b[0;34m(\u001b[0m\u001b[0mtset\u001b[0m\u001b[0;34m,\u001b[0m \u001b[0msave_t\u001b[0m\u001b[0;34m)\u001b[0m\u001b[0;34m\u001b[0m\u001b[0m\n\u001b[0m\u001b[1;32m    105\u001b[0m \u001b[0;34m\u001b[0m\u001b[0m\n\u001b[1;32m    106\u001b[0m             \u001b[0mtables\u001b[0m\u001b[0;34m.\u001b[0m\u001b[0mappend_rows\u001b[0m\u001b[0;34m(\u001b[0m\u001b[0mdset_dig\u001b[0m\u001b[0;34m,\u001b[0m \u001b[0msave_block\u001b[0m\u001b[0;34m.\u001b[0m\u001b[0mastype\u001b[0m\u001b[0;34m(\u001b[0m\u001b[0mnp\u001b[0m\u001b[0;34m.\u001b[0m\u001b[0mshort\u001b[0m\u001b[0;34m)\u001b[0m\u001b[0;34m)\u001b[0m\u001b[0;34m\u001b[0m\u001b[0m\n",
      "\u001b[0;32m/mnt/cube/earneodo/repos/intan2kwik/intan2kwik/core/h5/tables.py\u001b[0m in \u001b[0;36mappend_rows\u001b[0;34m(dataset, new_data)\u001b[0m\n\u001b[1;32m     43\u001b[0m     \u001b[0mdataset\u001b[0m\u001b[0;34m.\u001b[0m\u001b[0mresize\u001b[0m\u001b[0;34m(\u001b[0m\u001b[0mrows\u001b[0m \u001b[0;34m+\u001b[0m \u001b[0mmore_rows\u001b[0m\u001b[0;34m,\u001b[0m \u001b[0maxis\u001b[0m\u001b[0;34m=\u001b[0m\u001b[0;36m0\u001b[0m\u001b[0;34m)\u001b[0m\u001b[0;34m\u001b[0m\u001b[0m\n\u001b[1;32m     44\u001b[0m     \u001b[0;32mif\u001b[0m \u001b[0mdataset\u001b[0m\u001b[0;34m.\u001b[0m\u001b[0msize\u001b[0m \u001b[0;34m==\u001b[0m \u001b[0;34m(\u001b[0m\u001b[0mrows\u001b[0m \u001b[0;34m+\u001b[0m \u001b[0mmore_rows\u001b[0m\u001b[0;34m)\u001b[0m\u001b[0;34m:\u001b[0m\u001b[0;34m\u001b[0m\u001b[0m\n\u001b[0;32m---> 45\u001b[0;31m         \u001b[0mdataset\u001b[0m\u001b[0;34m[\u001b[0m\u001b[0mrows\u001b[0m\u001b[0;34m:\u001b[0m\u001b[0;34m]\u001b[0m \u001b[0;34m=\u001b[0m \u001b[0mnew_data\u001b[0m\u001b[0;34m\u001b[0m\u001b[0m\n\u001b[0m\u001b[1;32m     46\u001b[0m     \u001b[0;32melse\u001b[0m\u001b[0;34m:\u001b[0m\u001b[0;34m\u001b[0m\u001b[0m\n\u001b[1;32m     47\u001b[0m         \u001b[0mdataset\u001b[0m\u001b[0;34m[\u001b[0m\u001b[0mrows\u001b[0m\u001b[0;34m:\u001b[0m\u001b[0;34m,\u001b[0m \u001b[0;34m:\u001b[0m\u001b[0;34m]\u001b[0m \u001b[0;34m=\u001b[0m \u001b[0mnew_data\u001b[0m\u001b[0;34m\u001b[0m\u001b[0m\n",
      "\u001b[0;32mh5py/_objects.pyx\u001b[0m in \u001b[0;36mh5py._objects.with_phil.wrapper (/home/ilan/minonda/conda-bld/h5py_1496889914775/work/h5py/_objects.c:2846)\u001b[0;34m()\u001b[0m\n",
      "\u001b[0;32mh5py/_objects.pyx\u001b[0m in \u001b[0;36mh5py._objects.with_phil.wrapper (/home/ilan/minonda/conda-bld/h5py_1496889914775/work/h5py/_objects.c:2804)\u001b[0;34m()\u001b[0m\n",
      "\u001b[0;32m~/anaconda3/envs/tf/lib/python3.6/site-packages/h5py/_hl/dataset.py\u001b[0m in \u001b[0;36m__setitem__\u001b[0;34m(self, args, val)\u001b[0m\n\u001b[1;32m    627\u001b[0m             \u001b[0mmshape_pad\u001b[0m \u001b[0;34m=\u001b[0m \u001b[0mmshape\u001b[0m\u001b[0;34m\u001b[0m\u001b[0m\n\u001b[1;32m    628\u001b[0m         \u001b[0mmspace\u001b[0m \u001b[0;34m=\u001b[0m \u001b[0mh5s\u001b[0m\u001b[0;34m.\u001b[0m\u001b[0mcreate_simple\u001b[0m\u001b[0;34m(\u001b[0m\u001b[0mmshape_pad\u001b[0m\u001b[0;34m,\u001b[0m \u001b[0;34m(\u001b[0m\u001b[0mh5s\u001b[0m\u001b[0;34m.\u001b[0m\u001b[0mUNLIMITED\u001b[0m\u001b[0;34m,\u001b[0m\u001b[0;34m)\u001b[0m\u001b[0;34m*\u001b[0m\u001b[0mlen\u001b[0m\u001b[0;34m(\u001b[0m\u001b[0mmshape_pad\u001b[0m\u001b[0;34m)\u001b[0m\u001b[0;34m)\u001b[0m\u001b[0;34m\u001b[0m\u001b[0m\n\u001b[0;32m--> 629\u001b[0;31m         \u001b[0;32mfor\u001b[0m \u001b[0mfspace\u001b[0m \u001b[0;32min\u001b[0m \u001b[0mselection\u001b[0m\u001b[0;34m.\u001b[0m\u001b[0mbroadcast\u001b[0m\u001b[0;34m(\u001b[0m\u001b[0mmshape\u001b[0m\u001b[0;34m)\u001b[0m\u001b[0;34m:\u001b[0m\u001b[0;34m\u001b[0m\u001b[0m\n\u001b[0m\u001b[1;32m    630\u001b[0m             \u001b[0mself\u001b[0m\u001b[0;34m.\u001b[0m\u001b[0mid\u001b[0m\u001b[0;34m.\u001b[0m\u001b[0mwrite\u001b[0m\u001b[0;34m(\u001b[0m\u001b[0mmspace\u001b[0m\u001b[0;34m,\u001b[0m \u001b[0mfspace\u001b[0m\u001b[0;34m,\u001b[0m \u001b[0mval\u001b[0m\u001b[0;34m,\u001b[0m \u001b[0mmtype\u001b[0m\u001b[0;34m,\u001b[0m \u001b[0mdxpl\u001b[0m\u001b[0;34m=\u001b[0m\u001b[0mself\u001b[0m\u001b[0;34m.\u001b[0m\u001b[0m_dxpl\u001b[0m\u001b[0;34m)\u001b[0m\u001b[0;34m\u001b[0m\u001b[0m\n\u001b[1;32m    631\u001b[0m \u001b[0;34m\u001b[0m\u001b[0m\n",
      "\u001b[0;32m~/anaconda3/envs/tf/lib/python3.6/site-packages/h5py/_hl/selections.py\u001b[0m in \u001b[0;36mbroadcast\u001b[0;34m(self, target_shape)\u001b[0m\n\u001b[1;32m    297\u001b[0m                     \u001b[0mtshape\u001b[0m\u001b[0;34m.\u001b[0m\u001b[0mappend\u001b[0m\u001b[0;34m(\u001b[0m\u001b[0mt\u001b[0m\u001b[0;34m)\u001b[0m\u001b[0;34m\u001b[0m\u001b[0m\n\u001b[1;32m    298\u001b[0m                 \u001b[0;32melse\u001b[0m\u001b[0;34m:\u001b[0m\u001b[0;34m\u001b[0m\u001b[0m\n\u001b[0;32m--> 299\u001b[0;31m                     \u001b[0;32mraise\u001b[0m \u001b[0mTypeError\u001b[0m\u001b[0;34m(\u001b[0m\u001b[0;34m\"Can't broadcast %s -> %s\"\u001b[0m \u001b[0;34m%\u001b[0m \u001b[0;34m(\u001b[0m\u001b[0mtarget_shape\u001b[0m\u001b[0;34m,\u001b[0m \u001b[0mcount\u001b[0m\u001b[0;34m)\u001b[0m\u001b[0;34m)\u001b[0m\u001b[0;34m\u001b[0m\u001b[0m\n\u001b[0m\u001b[1;32m    300\u001b[0m         \u001b[0mtshape\u001b[0m\u001b[0;34m.\u001b[0m\u001b[0mreverse\u001b[0m\u001b[0;34m(\u001b[0m\u001b[0;34m)\u001b[0m\u001b[0;34m\u001b[0m\u001b[0m\n\u001b[1;32m    301\u001b[0m         \u001b[0mtshape\u001b[0m \u001b[0;34m=\u001b[0m \u001b[0mtuple\u001b[0m\u001b[0;34m(\u001b[0m\u001b[0mtshape\u001b[0m\u001b[0;34m)\u001b[0m\u001b[0;34m\u001b[0m\u001b[0m\n",
      "\u001b[0;31mTypeError\u001b[0m: Can't broadcast (13200000, 35) -> (13200000, 1)"
     ]
    }
   ],
   "source": [
    "rhd_folder = '/mnt/cube/earneodo/bci_zf/raw_data/z024/anesth_surface_0'\n",
    "\n",
    "kwd_file_path = os.path.join(rhd_folder, 'experiment.raw.kwd')\n",
    "kwe_file_path = os.path.join(rhd_folder, 'experiment.raw.kwe')\n",
    "\n",
    "ihdr = ikwd.intan_to_kwd(rhd_folder, kwd_file_path, rec=0, include_channels=['amplifier', 'board_adc'])\n"
   ]
  },
  {
   "cell_type": "code",
   "execution_count": null,
   "metadata": {
    "collapsed": true
   },
   "outputs": [],
   "source": []
  }
 ],
 "metadata": {
  "kernelspec": {
   "display_name": "Tf 1.2 py3.6",
   "language": "python",
   "name": "tf"
  },
  "language_info": {
   "codemirror_mode": {
    "name": "ipython",
    "version": 3
   },
   "file_extension": ".py",
   "mimetype": "text/x-python",
   "name": "python",
   "nbconvert_exporter": "python",
   "pygments_lexer": "ipython3",
   "version": "3.6.2"
  }
 },
 "nbformat": 4,
 "nbformat_minor": 2
}
